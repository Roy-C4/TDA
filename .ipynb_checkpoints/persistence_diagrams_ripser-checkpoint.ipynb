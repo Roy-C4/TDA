{
 "cells": [
  {
   "cell_type": "code",
   "execution_count": 5,
   "metadata": {
    "ExecuteTime": {
     "end_time": "2023-06-18T15:15:15.359734Z",
     "start_time": "2023-06-18T15:15:15.195641900Z"
    }
   },
   "outputs": [
    {
     "ename": "ImportError",
     "evalue": "cannot import name 'TopologicalError' from 'shapely.geos' (C:\\Users\\Eigenaar\\AppData\\Local\\Programs\\Python\\Python37\\lib\\site-packages\\shapely\\geos.py)",
     "output_type": "error",
     "traceback": [
      "\u001b[1;31m---------------------------------------------------------------------------\u001b[0m",
      "\u001b[1;31mImportError\u001b[0m                               Traceback (most recent call last)",
      "\u001b[1;32m~\\AppData\\Local\\Temp\\ipykernel_2488\\507369928.py\u001b[0m in \u001b[0;36m<module>\u001b[1;34m\u001b[0m\n\u001b[0;32m      9\u001b[0m \u001b[1;32mimport\u001b[0m \u001b[0mpyproj\u001b[0m\u001b[1;33m\u001b[0m\u001b[0m\n\u001b[0;32m     10\u001b[0m \u001b[1;32mimport\u001b[0m \u001b[0mpptk\u001b[0m\u001b[1;33m\u001b[0m\u001b[0m\n\u001b[1;32m---> 11\u001b[1;33m \u001b[1;32mimport\u001b[0m \u001b[0mosmnx\u001b[0m \u001b[1;32mas\u001b[0m \u001b[0mox\u001b[0m\u001b[1;33m\u001b[0m\u001b[0m\n\u001b[0m\u001b[0;32m     12\u001b[0m \u001b[1;32mimport\u001b[0m \u001b[0mgeopandas\u001b[0m \u001b[1;32mas\u001b[0m \u001b[0mgpd\u001b[0m\u001b[1;33m\u001b[0m\u001b[0m\n\u001b[0;32m     13\u001b[0m \u001b[1;32mimport\u001b[0m \u001b[0mmatplotlib\u001b[0m\u001b[1;33m.\u001b[0m\u001b[0mpyplot\u001b[0m \u001b[1;32mas\u001b[0m \u001b[0mplt\u001b[0m\u001b[1;33m\u001b[0m\u001b[0m\n",
      "\u001b[1;32m~\\AppData\\Local\\Programs\\Python\\Python37\\lib\\site-packages\\osmnx\\__init__.py\u001b[0m in \u001b[0;36m<module>\u001b[1;34m\u001b[0m\n\u001b[0;32m      1\u001b[0m \u001b[1;34m\"\"\"OSMnx init.\"\"\"\u001b[0m\u001b[1;33m\u001b[0m\u001b[0m\n\u001b[0;32m      2\u001b[0m \u001b[1;33m\u001b[0m\u001b[0m\n\u001b[1;32m----> 3\u001b[1;33m \u001b[1;32mfrom\u001b[0m \u001b[1;33m.\u001b[0m\u001b[0m_api\u001b[0m \u001b[1;32mimport\u001b[0m \u001b[1;33m*\u001b[0m\u001b[1;33m\u001b[0m\u001b[0m\n\u001b[0m\u001b[0;32m      4\u001b[0m \u001b[1;32mfrom\u001b[0m \u001b[1;33m.\u001b[0m\u001b[0m_version\u001b[0m \u001b[1;32mimport\u001b[0m \u001b[0m__version__\u001b[0m\u001b[1;33m\u001b[0m\u001b[0m\n",
      "\u001b[1;32m~\\AppData\\Local\\Programs\\Python\\Python37\\lib\\site-packages\\osmnx\\_api.py\u001b[0m in \u001b[0;36m<module>\u001b[1;34m\u001b[0m\n\u001b[0;32m     20\u001b[0m \u001b[1;32mfrom\u001b[0m \u001b[1;33m.\u001b[0m\u001b[0mgeocoder\u001b[0m \u001b[1;32mimport\u001b[0m \u001b[0mgeocode\u001b[0m\u001b[1;33m\u001b[0m\u001b[0m\n\u001b[0;32m     21\u001b[0m \u001b[1;32mfrom\u001b[0m \u001b[1;33m.\u001b[0m\u001b[0mgeocoder\u001b[0m \u001b[1;32mimport\u001b[0m \u001b[0mgeocode_to_gdf\u001b[0m\u001b[1;33m\u001b[0m\u001b[0m\n\u001b[1;32m---> 22\u001b[1;33m \u001b[1;32mfrom\u001b[0m \u001b[1;33m.\u001b[0m\u001b[0mgeometries\u001b[0m \u001b[1;32mimport\u001b[0m \u001b[0mgeometries_from_address\u001b[0m\u001b[1;33m\u001b[0m\u001b[0m\n\u001b[0m\u001b[0;32m     23\u001b[0m \u001b[1;32mfrom\u001b[0m \u001b[1;33m.\u001b[0m\u001b[0mgeometries\u001b[0m \u001b[1;32mimport\u001b[0m \u001b[0mgeometries_from_bbox\u001b[0m\u001b[1;33m\u001b[0m\u001b[0m\n\u001b[0;32m     24\u001b[0m \u001b[1;32mfrom\u001b[0m \u001b[1;33m.\u001b[0m\u001b[0mgeometries\u001b[0m \u001b[1;32mimport\u001b[0m \u001b[0mgeometries_from_place\u001b[0m\u001b[1;33m\u001b[0m\u001b[0m\n",
      "\u001b[1;32m~\\AppData\\Local\\Programs\\Python\\Python37\\lib\\site-packages\\osmnx\\geometries.py\u001b[0m in \u001b[0;36m<module>\u001b[1;34m\u001b[0m\n\u001b[0;32m     19\u001b[0m \u001b[1;32mfrom\u001b[0m \u001b[0mshapely\u001b[0m\u001b[1;33m.\u001b[0m\u001b[0mgeometry\u001b[0m \u001b[1;32mimport\u001b[0m \u001b[0mPoint\u001b[0m\u001b[1;33m\u001b[0m\u001b[0m\n\u001b[0;32m     20\u001b[0m \u001b[1;32mfrom\u001b[0m \u001b[0mshapely\u001b[0m\u001b[1;33m.\u001b[0m\u001b[0mgeometry\u001b[0m \u001b[1;32mimport\u001b[0m \u001b[0mPolygon\u001b[0m\u001b[1;33m\u001b[0m\u001b[0m\n\u001b[1;32m---> 21\u001b[1;33m \u001b[1;32mfrom\u001b[0m \u001b[0mshapely\u001b[0m\u001b[1;33m.\u001b[0m\u001b[0mgeos\u001b[0m \u001b[1;32mimport\u001b[0m \u001b[0mTopologicalError\u001b[0m\u001b[1;33m\u001b[0m\u001b[0m\n\u001b[0m\u001b[0;32m     22\u001b[0m \u001b[1;32mfrom\u001b[0m \u001b[0mshapely\u001b[0m\u001b[1;33m.\u001b[0m\u001b[0mops\u001b[0m \u001b[1;32mimport\u001b[0m \u001b[0mlinemerge\u001b[0m\u001b[1;33m\u001b[0m\u001b[0m\n\u001b[0;32m     23\u001b[0m \u001b[1;32mfrom\u001b[0m \u001b[0mshapely\u001b[0m\u001b[1;33m.\u001b[0m\u001b[0mops\u001b[0m \u001b[1;32mimport\u001b[0m \u001b[0mpolygonize\u001b[0m\u001b[1;33m\u001b[0m\u001b[0m\n",
      "\u001b[1;31mImportError\u001b[0m: cannot import name 'TopologicalError' from 'shapely.geos' (C:\\Users\\Eigenaar\\AppData\\Local\\Programs\\Python\\Python37\\lib\\site-packages\\shapely\\geos.py)"
     ]
    }
   ],
   "source": [
    "from __future__ import absolute_import, division, print_function\n",
    "from mayavi import mlab\n",
    "import numpy as np\n",
    "import math\n",
    "import pandas as pd\n",
    "from sklearn.preprocessing import normalize\n",
    "from ripser import ripser\n",
    "from ripser import Rips\n",
    "import pyproj\n",
    "import pptk\n",
    "import osmnx as ox\n",
    "import geopandas as gpd\n",
    "import matplotlib.pyplot as plt\n",
    "from matplotlib.patches import Polygon\n",
    "\n",
    "# Define the projection map\n",
    "proj = pyproj.Proj(proj='utm', zone=50, ellps='WGS84')\n",
    "# Define the DataFrame\n",
    "df = pd.read_csv(\"filtered_car_trajectories.csv\")\n",
    "\n",
    "# Create coordinate projection\n",
    "x, y = proj(df['Longitude'].tolist(), df['Latitude'].tolist())\n",
    "p = np.c_[x, y, 0.3048 * df['Altitude']] # convert alt to meters\n",
    "v = pptk.viewer(p)\n",
    "\n",
    "# Create persistence diagrams\n",
    "x_coords = df['Longitude'].tolist()\n",
    "y_coords = df['Latitude'].tolist()\n",
    "\n",
    "# Construct the point cloud\n",
    "print(\"Constructing point cloud\")\n",
    "point_cloud = np.column_stack((x_coords, y_coords))\n",
    "print(f\"Amount of points: {len(point_cloud)}\")\n",
    "\n",
    "north = 40.25\n",
    "east = 116.7\n",
    "south = 39.5\n",
    "west = 115.5\n",
    "\n",
    "# graph = ox.graph_from_bbox(north, south, east, west, network_type='all')\n",
    "districts = ['Changping District', 'Shunyi District', 'Tongzhou District', 'Daxing District', 'Fangshan District', 'Mentougou District']\n",
    "\n",
    "# Retrieve the boundary polygons for each district\n",
    "district_polygons = []\n",
    "for district in districts:\n",
    "    query = district + ', Beijing, China'\n",
    "    print('hello')\n",
    "    polygon = ox.geocode_to_gdf(query)\n",
    "    print('hello2')\n",
    "    district_polygons.append(polygon)\n",
    "\n",
    "# Combine the district polygons into a single GeoDataFrame\n",
    "districts_gdf = gpd.GeoDataFrame(pd.concat(district_polygons, ignore_index=True))\n",
    "\n",
    "# Visualize the district boundaries\n",
    "districts_gdf.plot()\n",
    "\n",
    "# from shapely.geometry import Point\n",
    "#\n",
    "# # Iterate over the points and check if they belong to any district\n",
    "# for point in point_cloud:\n",
    "#     lon, lat = point[0], point[1]\n",
    "#     point_obj = Point(lon, lat)\n",
    "#\n",
    "#     for i, polygon in enumerate(district_polygons):\n",
    "#         if polygon.contains(point_obj):\n",
    "#             print(f\"Point belongs to {districts[i]}\")\n",
    "#             break\n",
    "#     else:\n",
    "#         print(\"Point does not belong to any district\")\n",
    "#\n",
    "#\n",
    "#\n",
    "# rips = Rips()\n",
    "# diagrams = rips.fit_transform(point_cloud[1:300])\n",
    "# rips.plot(diagrams)\n"
   ]
  },
  {
   "cell_type": "code",
   "execution_count": null,
   "metadata": {},
   "outputs": [],
   "source": []
  }
 ],
 "metadata": {
  "kernelspec": {
   "display_name": "Python 3 (ipykernel)",
   "language": "python",
   "name": "python3"
  },
  "language_info": {
   "codemirror_mode": {
    "name": "ipython",
    "version": 3
   },
   "file_extension": ".py",
   "mimetype": "text/x-python",
   "name": "python",
   "nbconvert_exporter": "python",
   "pygments_lexer": "ipython3",
   "version": "3.7.0"
  }
 },
 "nbformat": 4,
 "nbformat_minor": 1
}

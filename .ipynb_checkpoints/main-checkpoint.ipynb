{
 "cells": [
  {
   "cell_type": "code",
   "execution_count": null,
   "metadata": {},
   "outputs": [],
   "source": [
    "from __future__ import absolute_import, division, print_function\n",
    "from mayavi import mlab\n",
    "import numpy as np\n",
    "import math\n",
    "import pandas as pd\n",
    "from sklearn.preprocessing import normalize\n",
    "import pyproj\n",
    "import pptk\n",
    "from ripser import ripser\n",
    "from ripser import Rips\n",
    "from datetime import datetime\n",
    "\n",
    "# Define the projection map\n",
    "proj = pyproj.Proj(proj='utm', zone=50, ellps='WGS84')\n",
    "\n",
    "# Define the DataFrame\n",
    "df = pd.read_csv(\"dataset_raw_full.csv\")\n",
    "\n",
    "# Create new column with encoding for each label in the dataframe\n",
    "labels_cat = pd.Categorical(df.Label)\n",
    "df['Encoding'] = labels_cat.codes\n",
    "\n",
    "# Create dictionary with (key=label, value=encoding)\n",
    "# {'taxi': 7, 'walk': 9, 'bus': 3, 'train': 8, 'car': 4, 'airplane': 0,\n",
    "# 'subway': 6, 'bike': 1, 'run': 5, 'boat': 2}\n",
    "labels = df['Label'].drop_duplicates()\n",
    "encodings = df['Encoding'].drop_duplicates()\n",
    "label_map = dict(zip(labels, encodings))\n",
    "\n",
    "# Filter the data on latitude and longitude to obtain only the points in centre/suburbs\n",
    "lat_long_mask = (df['Latitude'] > 39.5) & (df['Latitude'] < 40.25) & (df['Longitude'] > 115.5) & (df['Longitude'] < 116.7)\n",
    "df = df[lat_long_mask]\n",
    "\n",
    "# Filter the data on daytime traffic\n",
    "df['Date_Time'] = pd.to_datetime(df['Date_Time'])\n",
    "daytime_mask = (df['Date_Time'].dt.hour >= 7) & (df['Date_Time'].dt.hour < 9) # from 07.00 to 09.00\n",
    "df = df[daytime_mask]\n",
    "\n",
    "# Filter the data on car traffic\n",
    "car_encoding = label_map['car']\n",
    "car_mask = (df['Encoding'] == car_encoding)\n",
    "df = df[car_mask]\n",
    "\n",
    "# Create coordinate projection\n",
    "x, y = proj(df['Longitude'].tolist(), df['Latitude'].tolist())\n",
    "p = np.c_[x, y, 0.3048 * df['Altitude']] # convert alt to meters\n",
    "v = pptk.viewer(p)\n",
    "\n",
    "# Create persistence diagrams\n",
    "x_coords = df['Longitude'].tolist()\n",
    "y_coords = df['Latitude'].tolist()\n",
    "\n",
    "# Construct the point cloud\n",
    "point_cloud = np.column_stack((x_coords, y_coords))\n",
    "diagrams = ripser(point_cloud)['dgms']\n",
    "\n",
    "# Print the persistence diagrams\n",
    "for diagram in diagrams:\n",
    "    print(diagram)\n"
   ]
  },
  {
   "cell_type": "code",
   "execution_count": null,
   "metadata": {},
   "outputs": [],
   "source": []
  }
 ],
 "metadata": {
  "kernelspec": {
   "display_name": "Python 3 (ipykernel)",
   "language": "python",
   "name": "python3"
  },
  "language_info": {
   "codemirror_mode": {
    "name": "ipython",
    "version": 3
   },
   "file_extension": ".py",
   "mimetype": "text/x-python",
   "name": "python",
   "nbconvert_exporter": "python",
   "pygments_lexer": "ipython3",
   "version": "3.7.0"
  }
 },
 "nbformat": 4,
 "nbformat_minor": 1
}

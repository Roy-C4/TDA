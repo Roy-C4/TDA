{
 "cells": [
  {
   "cell_type": "code",
   "execution_count": null,
   "metadata": {
    "ExecuteTime": {
     "start_time": "2023-06-18T12:43:51.549509Z"
    },
    "is_executing": true
   },
   "outputs": [
    {
     "name": "stdout",
     "output_type": "stream",
     "text": [
      "hello1\n",
      "hello2\n",
      "hello3\n"
     ]
    }
   ],
   "source": [
    "from __future__ import absolute_import, division, print_function\n",
    "from mayavi import mlab\n",
    "import numpy as np\n",
    "import math\n",
    "import pandas as pd\n",
    "from sklearn.preprocessing import normalize\n",
    "from ripser import ripser\n",
    "import pyproj\n",
    "import pptk\n",
    "import ripserplusplus as rpp\n",
    "import matplotlib.pyplot as plt\n",
    "from matplotlib.patches import Polygon\n",
    "\n",
    "\n",
    "\n",
    "def ripscomplex(X, hdim=1):\n",
    "    pairs= rpp.run(\"--format point-cloud --dim \"+str(hdim), X)[hdim]\n",
    "    return np.sqrt(np.array((pairs.tolist())).reshape((len(pairs),2)))\n",
    "\n",
    "def plot_dgm(dgm_true, dgm_tot, m, M, ax=None):\n",
    "    if ax is None:\n",
    "        fig = plt.figure()\n",
    "        ax = fig.add_subplot(111)\n",
    "    x, y = dgm_true[:,0], dgm_true[:,1]\n",
    "    ax.scatter(x, y, marker='o', color='blue', label='true dgm')\n",
    "    ax.scatter(dgm_tot[:,0], dgm_tot[:,1], marker='x', color='red', label='total dgm')\n",
    "    ax.set_xlim(m,M)\n",
    "    ax.set_ylim(m,M)\n",
    "    ax.add_patch(Polygon([[m, m], [M, m], [M, M]], fill=True, color='lightgrey'))\n",
    "    ax.set_aspect(\"equal\")\n",
    "    ax.set_xlabel(\"Births\", fontsize=18)\n",
    "    ax.set_ylabel(\"Deaths\", fontsize=18)\n",
    "\n",
    "    ax.legend()\n",
    "    ax.set_title(\"Diagrams\", fontsize=24)\n",
    "\n",
    "from datetime import datetime\n",
    "from tqdm import tqdm\n",
    "\n",
    "print(\"hello1\")\n",
    "# Define the projection map\n",
    "proj = pyproj.Proj(proj='utm', zone=50, ellps='WGS84')\n",
    "print(\"hello2\")\n",
    "# Define the DataFrame\n",
    "df = pd.read_csv(\"filtered_car_trajectories.csv\")\n",
    "\n",
    "print(\"hello3\")\n",
    "# # Create coordinate projection\n",
    "# x, y = proj(df['Longitude'].tolist(), df['Latitude'].tolist())\n",
    "# p = np.c_[x, y, 0.3048 * df['Altitude']] # convert alt to meters\n",
    "# v = pptk.viewer(p)\n",
    "\n",
    "print(\"it still goes well\")\n",
    "# Create persistence diagrams\n",
    "x_coords = df['Longitude'].tolist()\n",
    "y_coords = df['Latitude'].tolist()\n",
    "\n",
    "# Construct the point cloud\n",
    "print(\"Constructing point cloud\")\n",
    "point_cloud = np.column_stack((x_coords, y_coords))\n",
    "print(\"Computing diagrams\")\n",
    "diagram = ripscomplex(point_cloud[1:10], 2)\n",
    "\n",
    "print(\"Plotting diagrams\")\n",
    "fig = plt.figure(figsize=(12,6))\n",
    "ax1 = fig.add_subplot(121)\n",
    "ax2 = fig.add_subplot(122)\n",
    "plot_dgm(diagram, diagram, m =-0.1, M=2, ax=ax1)\n"
   ]
  },
  {
   "cell_type": "code",
   "execution_count": null,
   "metadata": {
    "is_executing": true
   },
   "outputs": [],
   "source": []
  },
  {
   "cell_type": "code",
   "execution_count": null,
   "metadata": {
    "is_executing": true
   },
   "outputs": [],
   "source": []
  }
 ],
 "metadata": {
  "kernelspec": {
   "display_name": "Python 3 (ipykernel)",
   "language": "python",
   "name": "python3"
  },
  "language_info": {
   "codemirror_mode": {
    "name": "ipython",
    "version": 3
   },
   "file_extension": ".py",
   "mimetype": "text/x-python",
   "name": "python",
   "nbconvert_exporter": "python",
   "pygments_lexer": "ipython3",
   "version": "3.7.0"
  }
 },
 "nbformat": 4,
 "nbformat_minor": 1
}
